{
 "cells": [
  {
   "cell_type": "markdown",
   "source": [
    "# Lab | Handling Data Imbalance in Classification Models\r\n",
    "\r\n",
    "For this lab and in the next lessons we will build a model on a customer churn binary classification problem. You will be using `files_for_lab/Customer-Churn.csv` file.\r\n",
    "\r\n",
    "### Scenario\r\n",
    "\r\n",
    "You are working as an analyst with this internet service provider. You are provided with this historical data about your company's customers and their churn trends. Your task is to build a machine learning model that will help the company identify customers that are more likely to default/churn and thus prevent losses from such customers.\r\n",
    "\r\n",
    "### Instructions\r\n",
    "\r\n",
    "In this lab, we will first take a look at the degree of imbalance in the data and correct it using the techniques we learned in the class.\r\n",
    "\r\n",
    "Here is the list of steps to be followed (building a simple model without balancing the data):\r\n",
    "\r\n",
    "- Import the required libraries and modules that you would need.\r\n",
    "- Read that data into Python and call the dataframe `churnData`.\r\n",
    "- Check the datatypes of all the columns in the data. You would see that the column `TotalCharges` is object type. Convert this column into numeric type using `pd.to_numeric` function.\r\n",
    "- Check for null values in the dataframe. Replace the null values.\r\n",
    "- Use the following features: `tenure`, `SeniorCitizen`, `MonthlyCharges` and `TotalCharges`:\r\n",
    "  - Scale the features either by using normalizer or a standard scaler.\r\n",
    "  - Split the data into a training set and a test set.\r\n",
    "  - Fit a logistic regression model on the training data.\r\n",
    "  - Check the accuracy on the test data."
   ],
   "metadata": {}
  },
  {
   "cell_type": "code",
   "execution_count": 1,
   "source": [
    "#Import the required libraries and modules \r\n",
    "import pandas as pd\r\n",
    "import numpy as np\r\n",
    "from sklearn.utils import resample\r\n",
    "from sklearn.model_selection import train_test_split\r\n",
    "from sklearn.preprocessing import StandardScaler, MinMaxScaler\r\n",
    "from sklearn.linear_model import LogisticRegression\r\n",
    "from sklearn.tree import DecisionTreeRegressor\r\n",
    "from sklearn.metrics import r2_score,mean_squared_error, mean_absolute_error\r\n",
    "import statsmodels.api as stm\r\n",
    "pd.set_option('display.max_columns', None)\r\n",
    "pd.set_option('display.max_rows', None)"
   ],
   "outputs": [],
   "metadata": {}
  },
  {
   "cell_type": "code",
   "execution_count": 2,
   "source": [
    "#Read that data into Python and call the dataframe 'churnData'.\r\n",
    "churnData = pd.read_csv('./files_for_lab/Customer-Churn.csv')\r\n",
    "churnData.head()"
   ],
   "outputs": [
    {
     "output_type": "execute_result",
     "data": {
      "text/html": [
       "<div>\n",
       "<style scoped>\n",
       "    .dataframe tbody tr th:only-of-type {\n",
       "        vertical-align: middle;\n",
       "    }\n",
       "\n",
       "    .dataframe tbody tr th {\n",
       "        vertical-align: top;\n",
       "    }\n",
       "\n",
       "    .dataframe thead th {\n",
       "        text-align: right;\n",
       "    }\n",
       "</style>\n",
       "<table border=\"1\" class=\"dataframe\">\n",
       "  <thead>\n",
       "    <tr style=\"text-align: right;\">\n",
       "      <th></th>\n",
       "      <th>gender</th>\n",
       "      <th>SeniorCitizen</th>\n",
       "      <th>Partner</th>\n",
       "      <th>Dependents</th>\n",
       "      <th>tenure</th>\n",
       "      <th>PhoneService</th>\n",
       "      <th>OnlineSecurity</th>\n",
       "      <th>OnlineBackup</th>\n",
       "      <th>DeviceProtection</th>\n",
       "      <th>TechSupport</th>\n",
       "      <th>StreamingTV</th>\n",
       "      <th>StreamingMovies</th>\n",
       "      <th>Contract</th>\n",
       "      <th>MonthlyCharges</th>\n",
       "      <th>TotalCharges</th>\n",
       "      <th>Churn</th>\n",
       "    </tr>\n",
       "  </thead>\n",
       "  <tbody>\n",
       "    <tr>\n",
       "      <th>0</th>\n",
       "      <td>Female</td>\n",
       "      <td>0</td>\n",
       "      <td>Yes</td>\n",
       "      <td>No</td>\n",
       "      <td>1</td>\n",
       "      <td>No</td>\n",
       "      <td>No</td>\n",
       "      <td>Yes</td>\n",
       "      <td>No</td>\n",
       "      <td>No</td>\n",
       "      <td>No</td>\n",
       "      <td>No</td>\n",
       "      <td>Month-to-month</td>\n",
       "      <td>29.85</td>\n",
       "      <td>29.85</td>\n",
       "      <td>No</td>\n",
       "    </tr>\n",
       "    <tr>\n",
       "      <th>1</th>\n",
       "      <td>Male</td>\n",
       "      <td>0</td>\n",
       "      <td>No</td>\n",
       "      <td>No</td>\n",
       "      <td>34</td>\n",
       "      <td>Yes</td>\n",
       "      <td>Yes</td>\n",
       "      <td>No</td>\n",
       "      <td>Yes</td>\n",
       "      <td>No</td>\n",
       "      <td>No</td>\n",
       "      <td>No</td>\n",
       "      <td>One year</td>\n",
       "      <td>56.95</td>\n",
       "      <td>1889.5</td>\n",
       "      <td>No</td>\n",
       "    </tr>\n",
       "    <tr>\n",
       "      <th>2</th>\n",
       "      <td>Male</td>\n",
       "      <td>0</td>\n",
       "      <td>No</td>\n",
       "      <td>No</td>\n",
       "      <td>2</td>\n",
       "      <td>Yes</td>\n",
       "      <td>Yes</td>\n",
       "      <td>Yes</td>\n",
       "      <td>No</td>\n",
       "      <td>No</td>\n",
       "      <td>No</td>\n",
       "      <td>No</td>\n",
       "      <td>Month-to-month</td>\n",
       "      <td>53.85</td>\n",
       "      <td>108.15</td>\n",
       "      <td>Yes</td>\n",
       "    </tr>\n",
       "    <tr>\n",
       "      <th>3</th>\n",
       "      <td>Male</td>\n",
       "      <td>0</td>\n",
       "      <td>No</td>\n",
       "      <td>No</td>\n",
       "      <td>45</td>\n",
       "      <td>No</td>\n",
       "      <td>Yes</td>\n",
       "      <td>No</td>\n",
       "      <td>Yes</td>\n",
       "      <td>Yes</td>\n",
       "      <td>No</td>\n",
       "      <td>No</td>\n",
       "      <td>One year</td>\n",
       "      <td>42.30</td>\n",
       "      <td>1840.75</td>\n",
       "      <td>No</td>\n",
       "    </tr>\n",
       "    <tr>\n",
       "      <th>4</th>\n",
       "      <td>Female</td>\n",
       "      <td>0</td>\n",
       "      <td>No</td>\n",
       "      <td>No</td>\n",
       "      <td>2</td>\n",
       "      <td>Yes</td>\n",
       "      <td>No</td>\n",
       "      <td>No</td>\n",
       "      <td>No</td>\n",
       "      <td>No</td>\n",
       "      <td>No</td>\n",
       "      <td>No</td>\n",
       "      <td>Month-to-month</td>\n",
       "      <td>70.70</td>\n",
       "      <td>151.65</td>\n",
       "      <td>Yes</td>\n",
       "    </tr>\n",
       "  </tbody>\n",
       "</table>\n",
       "</div>"
      ],
      "text/plain": [
       "   gender  SeniorCitizen Partner Dependents  tenure PhoneService  \\\n",
       "0  Female              0     Yes         No       1           No   \n",
       "1    Male              0      No         No      34          Yes   \n",
       "2    Male              0      No         No       2          Yes   \n",
       "3    Male              0      No         No      45           No   \n",
       "4  Female              0      No         No       2          Yes   \n",
       "\n",
       "  OnlineSecurity OnlineBackup DeviceProtection TechSupport StreamingTV  \\\n",
       "0             No          Yes               No          No          No   \n",
       "1            Yes           No              Yes          No          No   \n",
       "2            Yes          Yes               No          No          No   \n",
       "3            Yes           No              Yes         Yes          No   \n",
       "4             No           No               No          No          No   \n",
       "\n",
       "  StreamingMovies        Contract  MonthlyCharges TotalCharges Churn  \n",
       "0              No  Month-to-month           29.85        29.85    No  \n",
       "1              No        One year           56.95       1889.5    No  \n",
       "2              No  Month-to-month           53.85       108.15   Yes  \n",
       "3              No        One year           42.30      1840.75    No  \n",
       "4              No  Month-to-month           70.70       151.65   Yes  "
      ]
     },
     "metadata": {},
     "execution_count": 2
    }
   ],
   "metadata": {}
  },
  {
   "cell_type": "code",
   "execution_count": 3,
   "source": [
    "#- Check the datatypes of all the columns in the data.\r\n",
    "churnData.dtypes\r\n",
    "#  Convert 'TotalCharges' column into numeric type using `pd.to_numeric` function."
   ],
   "outputs": [
    {
     "output_type": "execute_result",
     "data": {
      "text/plain": [
       "gender               object\n",
       "SeniorCitizen         int64\n",
       "Partner              object\n",
       "Dependents           object\n",
       "tenure                int64\n",
       "PhoneService         object\n",
       "OnlineSecurity       object\n",
       "OnlineBackup         object\n",
       "DeviceProtection     object\n",
       "TechSupport          object\n",
       "StreamingTV          object\n",
       "StreamingMovies      object\n",
       "Contract             object\n",
       "MonthlyCharges      float64\n",
       "TotalCharges         object\n",
       "Churn                object\n",
       "dtype: object"
      ]
     },
     "metadata": {},
     "execution_count": 3
    }
   ],
   "metadata": {}
  },
  {
   "cell_type": "code",
   "execution_count": 4,
   "source": [
    "# Convert 'TotalCharges' column into numeric type using `pd.to_numeric` function.\r\n",
    "# there are some values in the dataset that cannot be parsed as numeric with 'pd.to_numeric'\r\n",
    "# Define a function to replace those values with NaN values.\r\n",
    "def nan_maker(x):\r\n",
    "    try:\r\n",
    "        x = pd.to_numeric(x)\r\n",
    "    except: \r\n",
    "        x = np.nan\r\n",
    "    return x\r\n",
    "\r\n",
    "churnData['TotalCharges'] = churnData['TotalCharges'].apply(lambda x: nan_maker(x))\r\n",
    "churnData['TotalCharges'].dtype"
   ],
   "outputs": [
    {
     "output_type": "execute_result",
     "data": {
      "text/plain": [
       "dtype('float64')"
      ]
     },
     "metadata": {},
     "execution_count": 4
    }
   ],
   "metadata": {}
  },
  {
   "cell_type": "code",
   "execution_count": 5,
   "source": [
    "# Check for null values in the dataframe. \r\n",
    "churn_nulls = pd.DataFrame(churnData.isna().sum()).reset_index()\r\n",
    "churn_nulls.columns = ['Columns', 'Nulls']\r\n",
    "# Replace the null values with mean values for the column.\r\n",
    "churnData['TotalCharges'].fillna(np.mean(churnData['TotalCharges']), inplace = True)\r\n",
    "churn_nulls.iloc[14]"
   ],
   "outputs": [
    {
     "output_type": "execute_result",
     "data": {
      "text/plain": [
       "Columns    TotalCharges\n",
       "Nulls                11\n",
       "Name: 14, dtype: object"
      ]
     },
     "metadata": {},
     "execution_count": 5
    }
   ],
   "metadata": {}
  },
  {
   "cell_type": "code",
   "execution_count": 6,
   "source": [
    "# Use the following features: `tenure`, `SeniorCitizen`, `MonthlyCharges` and `TotalCharges`:\r\n",
    "\r\n",
    "X = churnData[['tenure','SeniorCitizen','MonthlyCharges','TotalCharges']]\r\n",
    "y = churnData['Churn']  "
   ],
   "outputs": [],
   "metadata": {}
  },
  {
   "cell_type": "code",
   "execution_count": 7,
   "source": [
    "# convert categorical labels to numeric for model output.\r\n",
    "def yes_no_to_bin(x):\r\n",
    "    if x.lower() == 'yes':\r\n",
    "        x = 1\r\n",
    "    else:\r\n",
    "        x = 0\r\n",
    "    return x\r\n",
    "y = y.apply(lambda x: yes_no_to_bin(x))"
   ],
   "outputs": [],
   "metadata": {}
  },
  {
   "cell_type": "code",
   "execution_count": 8,
   "source": [
    "# Split data into training and testing datasets\r\n",
    "X_train, X_test, y_train, y_test = train_test_split(X,y, test_size= 0.3, random_state = 32)"
   ],
   "outputs": [],
   "metadata": {}
  },
  {
   "cell_type": "code",
   "execution_count": 9,
   "source": [
    "# Scale the features either by using normalizer or a standard scaler.\r\n",
    "stand_scaler = StandardScaler().fit(X_train)\r\n",
    "norm_scaler = MinMaxScaler().fit(X_train)\r\n",
    "X_train_st_scaled = stand_scaler.transform(X_train)\r\n",
    "X_train_n_scaled = norm_scaler.transform(X_train)\r\n",
    "X_test_st_scaled = stand_scaler.transform(X_test)\r\n",
    "X_test_n_scaled = norm_scaler.transform(X_test) "
   ],
   "outputs": [],
   "metadata": {}
  },
  {
   "cell_type": "code",
   "execution_count": 10,
   "source": [
    "# Fit a logistic regression model on the training data.\r\n",
    "LogR1 = LogisticRegression().fit(X_train_n_scaled,y_train)\r\n",
    "training1 = LogR1.predict(X_train)\r\n",
    "train_score1 = r2_score(y_train, training1)\r\n",
    "print('Training: ', train_score1)\r\n"
   ],
   "outputs": [
    {
     "output_type": "stream",
     "name": "stdout",
     "text": [
      "Training:  -1.2512616862167292\n"
     ]
    }
   ],
   "metadata": {}
  },
  {
   "cell_type": "code",
   "execution_count": 11,
   "source": [
    "# Check the accuracy on the test data.\r\n",
    "testing1 = LogR1.predict(X_test_st_scaled)\r\n",
    "test_score1 = r2_score(y_test,testing1)\r\n",
    "print('Testing: ', test_score1)"
   ],
   "outputs": [
    {
     "output_type": "stream",
     "name": "stdout",
     "text": [
      "Testing:  -0.40596025052373363\n"
     ]
    }
   ],
   "metadata": {}
  },
  {
   "cell_type": "markdown",
   "source": [
    "\r\n",
    "## **Note**: So far we have not balanced the data.\r\n",
    "\r\n",
    "Managing imbalance in the dataset\r\n",
    "\r\n",
    "- Check for the imbalance.\r\n",
    "- Use the resampling strategies used in class for upsampling and downsampling to create a balance between the two classes.\r\n",
    "- Each time fit the model and see how the accuracy of the model is.\r\n"
   ],
   "metadata": {}
  },
  {
   "cell_type": "code",
   "execution_count": 12,
   "source": [
    "# check for imbalance in the data.\r\n",
    "churnData['Churn'].value_counts()\r\n",
    "\r\n",
    "# the target data is somewhat imbalanced with 2.77 times more 'Churn' values of 'No' than 'Yes'\r\n"
   ],
   "outputs": [
    {
     "output_type": "execute_result",
     "data": {
      "text/plain": [
       "No     5174\n",
       "Yes    1869\n",
       "Name: Churn, dtype: int64"
      ]
     },
     "metadata": {},
     "execution_count": 12
    }
   ],
   "metadata": {}
  },
  {
   "cell_type": "code",
   "execution_count": 13,
   "source": [
    "#Use the resampling strategies upsampling and downsampling to create a balance between the two classes.\r\n",
    "# create separate datasets using the target categories\r\n",
    "churnData_Yes = churnData[churnData['Churn'] == 'Yes']\r\n",
    "churnData_No = churnData[churnData['Churn'] == 'No']\r\n",
    "print(churnData_Yes.shape)\r\n",
    "print(churnData_No.shape)"
   ],
   "outputs": [
    {
     "output_type": "stream",
     "name": "stdout",
     "text": [
      "(1869, 16)\n",
      "(5174, 16)\n"
     ]
    }
   ],
   "metadata": {}
  },
  {
   "cell_type": "code",
   "execution_count": 14,
   "source": [
    "# upsample the minority class 'Yes'\r\n",
    "churnData_Yes_oversample = resample(churnData_Yes, replace = True, n_samples = len(churnData_No))\r\n",
    "churnData_upsampled = pd.concat([churnData_Yes_oversample, churnData_No], axis = 0)\r\n",
    "print(churnData_upsampled.shape)\r\n",
    "print(churnData_upsampled['Churn'].value_counts())\r\n"
   ],
   "outputs": [
    {
     "output_type": "stream",
     "name": "stdout",
     "text": [
      "(10348, 16)\n",
      "Yes    5174\n",
      "No     5174\n",
      "Name: Churn, dtype: int64\n"
     ]
    }
   ],
   "metadata": {}
  },
  {
   "cell_type": "code",
   "execution_count": 15,
   "source": [
    "# split resampled data into training and testing data.\r\n",
    "X_up = churnData_upsampled[['tenure','SeniorCitizen','MonthlyCharges','TotalCharges']]\r\n",
    "y_up = churnData_upsampled['Churn']\r\n",
    "y_up = y_up.apply(lambda x: yes_no_to_bin(x))\r\n",
    "\r\n",
    "X_up_train, X_up_test, y_up_train, y_up_test = train_test_split(X_up, y_up,  test_size = 0.3, random_state = 32)"
   ],
   "outputs": [],
   "metadata": {}
  },
  {
   "cell_type": "code",
   "execution_count": 16,
   "source": [
    "# fit a logistic regression model on the upsampled data\r\n",
    "LogR_up = LogisticRegression().fit(X_up_train,y_up_train)\r\n",
    "training_up = LogR_up.predict(X_up_train)\r\n",
    "train_score_up = r2_score(y_up_train, training_up)\r\n",
    "print('Training: ', train_score_up)"
   ],
   "outputs": [
    {
     "output_type": "stream",
     "name": "stdout",
     "text": [
      "Training:  -0.05813979022621263\n"
     ]
    }
   ],
   "metadata": {}
  },
  {
   "cell_type": "code",
   "execution_count": 17,
   "source": [
    "# Check the accuracy on the test data.\r\n",
    "testing_up = LogR_up.predict(X_up_test)\r\n",
    "test_score_up = r2_score(y_up_test,testing_up)\r\n",
    "print('Testing: ', test_score_up)"
   ],
   "outputs": [
    {
     "output_type": "stream",
     "name": "stdout",
     "text": [
      "Testing:  -0.06803567027402457\n"
     ]
    }
   ],
   "metadata": {}
  },
  {
   "cell_type": "code",
   "execution_count": 18,
   "source": [
    "# downsample the majority class 'No'\r\n",
    "churnData_No_undersample = resample(churnData_No, replace = False, n_samples = len(churnData_Yes))\r\n",
    "churnData_downsampled = pd.concat([churnData_No_undersample, churnData_Yes], axis = 0)\r\n",
    "print(churnData_downsampled.shape)\r\n",
    "print(churnData_downsampled['Churn'].value_counts())\r\n"
   ],
   "outputs": [
    {
     "output_type": "stream",
     "name": "stdout",
     "text": [
      "(3738, 16)\n",
      "No     1869\n",
      "Yes    1869\n",
      "Name: Churn, dtype: int64\n"
     ]
    }
   ],
   "metadata": {}
  },
  {
   "cell_type": "code",
   "execution_count": 19,
   "source": [
    "# split resampled data into training and testing data.\r\n",
    "X_down = churnData_downsampled[['tenure','SeniorCitizen','MonthlyCharges','TotalCharges']]\r\n",
    "y_down = churnData_downsampled['Churn']\r\n",
    "y_down = y_down.apply(lambda x: yes_no_to_bin(x))\r\n",
    "\r\n",
    "X_down_train, X_down_test, y_down_train, y_down_test = train_test_split(X_down, y_down,  test_size = 0.3, random_state = 32)"
   ],
   "outputs": [],
   "metadata": {}
  },
  {
   "cell_type": "code",
   "execution_count": 20,
   "source": [
    "# fit a logistic regression model on the downsampled data\r\n",
    "LogR_down = LogisticRegression().fit(X_down_train,y_down_train)\r\n",
    "training_down = LogR_down.predict(X_down_train)\r\n",
    "train_score_down = r2_score(y_down_train, training_down)\r\n",
    "print('Training: ', train_score_down)"
   ],
   "outputs": [
    {
     "output_type": "stream",
     "name": "stdout",
     "text": [
      "Training:  -0.05968319769368757\n"
     ]
    }
   ],
   "metadata": {}
  },
  {
   "cell_type": "code",
   "execution_count": 21,
   "source": [
    "# Check the accuracy on the test data.\r\n",
    "testing_down = LogR_down.predict(X_down_test)\r\n",
    "test_score_down = r2_score(y_down_test,testing_down)\r\n",
    "print('Testing: ', test_score_down)"
   ],
   "outputs": [
    {
     "output_type": "stream",
     "name": "stdout",
     "text": [
      "Testing:  -0.02700228832951912\n"
     ]
    }
   ],
   "metadata": {}
  },
  {
   "cell_type": "code",
   "execution_count": null,
   "source": [],
   "outputs": [],
   "metadata": {}
  },
  {
   "cell_type": "code",
   "execution_count": null,
   "source": [],
   "outputs": [],
   "metadata": {}
  },
  {
   "cell_type": "code",
   "execution_count": null,
   "source": [],
   "outputs": [],
   "metadata": {}
  }
 ],
 "metadata": {
  "orig_nbformat": 4,
  "language_info": {
   "name": "python",
   "version": "3.9.6",
   "mimetype": "text/x-python",
   "codemirror_mode": {
    "name": "ipython",
    "version": 3
   },
   "pygments_lexer": "ipython3",
   "nbconvert_exporter": "python",
   "file_extension": ".py"
  },
  "kernelspec": {
   "name": "python3",
   "display_name": "Python 3.9.6 64-bit"
  },
  "interpreter": {
   "hash": "aedf8f1d51000f588b88a278d8030ee8b8cb0ccbfbd1b6163ec7fb88fccbe87e"
  }
 },
 "nbformat": 4,
 "nbformat_minor": 2
}